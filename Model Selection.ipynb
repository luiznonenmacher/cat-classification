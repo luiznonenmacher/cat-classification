{
 "cells": [
  {
   "cell_type": "markdown",
   "metadata": {},
   "source": [
    "# Model Selection"
   ]
  },
  {
   "cell_type": "markdown",
   "metadata": {},
   "source": [
    "In this notebook, we will use the bottleneck features to train a model to predict the cats. For each of the three transfer learning models, we will try some alternatives to find the best one in terms of accuracy.\n",
    "\n",
    "For every model the structure will be the same: we will import the bottleneck features as X, the labels as y and divide X and y into training, validation and test sets. After, we will train some models and select the best one in terms of validation accuracy."
   ]
  },
  {
   "cell_type": "markdown",
   "metadata": {},
   "source": [
    "## NasNet Large"
   ]
  },
  {
   "cell_type": "markdown",
   "metadata": {},
   "source": [
    "#### Importing and processing the data"
   ]
  },
  {
   "cell_type": "code",
   "execution_count": 1,
   "metadata": {},
   "outputs": [
    {
     "data": {
      "text/plain": [
       "(400, 4032)"
      ]
     },
     "execution_count": 1,
     "metadata": {},
     "output_type": "execute_result"
    }
   ],
   "source": [
    "import numpy as np\n",
    "\n",
    "X = np.load('data/bottleneck_features/nasnet_bottleneck.npy')\n",
    "y = np.load('data/processed_data/y.npy')\n",
    "\n",
    "X.shape"
   ]
  },
  {
   "cell_type": "code",
   "execution_count": 16,
   "metadata": {},
   "outputs": [
    {
     "data": {
      "text/plain": [
       "(340, 4032)"
      ]
     },
     "execution_count": 16,
     "metadata": {},
     "output_type": "execute_result"
    }
   ],
   "source": [
    "X_train_val.shape"
   ]
  },
  {
   "cell_type": "code",
   "execution_count": 24,
   "metadata": {},
   "outputs": [],
   "source": [
    "from sklearn.model_selection import train_test_split\n",
    "\n",
    "X_train_val, X_test, y_train_val, y_test = train_test_split(X, y, test_size=0.15, random_state=42, shuffle=True, stratify=y)\n",
    "#X_train, X_val, y_train, y_val = train_test_split(X_train_val, y_train_val, test_size=0.15, \n",
    "                                                  random_state=42, shuffle=True, stratify=y_train_val)"
   ]
  },
  {
   "cell_type": "markdown",
   "metadata": {},
   "source": [
    "#### First model"
   ]
  },
  {
   "cell_type": "markdown",
   "metadata": {},
   "source": [
    "The first model will be the most simple one, as we will just add a final layer with one neuron."
   ]
  },
  {
   "cell_type": "code",
   "execution_count": 2,
   "metadata": {},
   "outputs": [
    {
     "name": "stderr",
     "output_type": "stream",
     "text": [
      "Using TensorFlow backend.\n"
     ]
    }
   ],
   "source": [
    "from keras.layers import Dropout, Dense\n",
    "from keras.models import Sequential\n",
    "from numpy.random import seed\n",
    "from tensorflow import set_random_seed\n",
    "from keras.callbacks import ModelCheckpoint  \n",
    "from sklearn.metrics import accuracy_score"
   ]
  },
  {
   "cell_type": "code",
   "execution_count": 46,
   "metadata": {},
   "outputs": [
    {
     "name": "stdout",
     "output_type": "stream",
     "text": [
      "Model 1, accuracy: 0.9412\n",
      "Model 2, accuracy: 0.9608\n",
      "Model 3, accuracy: 0.8824\n",
      "Model 4, accuracy: 0.9608\n",
      "Model 5, accuracy: 0.9804\n",
      "The model mean validation accuracy was: 0.9451\n"
     ]
    }
   ],
   "source": [
    "accuracy = []\n",
    "epochs = 50\n",
    "\n",
    "for i in range(5):\n",
    "    # Split the data into train/validation\n",
    "    X_train, X_val, y_train, y_val = train_test_split(X_train_val, y_train_val, test_size=0.15, \n",
    "                                                  random_state=i + 42, shuffle=True, stratify=y_train_val)\n",
    "    \n",
    "    # Define the model\n",
    "    model = Sequential()\n",
    "    model.add(Dense(1, activation='relu', input_shape=(4032,)))\n",
    "    \n",
    "    # Set the random seeds\n",
    "    seed(i + 42)\n",
    "    set_random_seed(i + 42)\n",
    "    \n",
    "    # Compile and train the model\n",
    "    model.compile(optimizer='adam', loss='binary_crossentropy', metrics=['accuracy'])\n",
    "    checkpointer = ModelCheckpoint(filepath='models/transfer_learning/weights.best.nasnet_1.hdf5', \n",
    "                               verbose=0, save_best_only=True)\n",
    "    model.fit(X_train, y_train, validation_data=(X_val, y_val), epochs=epochs, \n",
    "               batch_size=32, callbacks=[checkpointer], verbose=0)\n",
    "    \n",
    "    # Calculate the validation accuracy\n",
    "    val_predictions = (model.predict(X_val) > 0.5) * 1\n",
    "    val_accuracy = accuracy_score(val_predictions, y_val)\n",
    "    accuracy.append(val_accuracy)\n",
    "    print('Model {}, accuracy: {}'.format(i+1, np.round(val_accuracy, 4)))\n",
    "    \n",
    "print('The model mean validation accuracy was: {}'.format(np.round(np.mean(accuracy),4)))    "
   ]
  },
  {
   "cell_type": "markdown",
   "metadata": {},
   "source": [
    "### Second model"
   ]
  },
  {
   "cell_type": "code",
   "execution_count": 47,
   "metadata": {},
   "outputs": [
    {
     "name": "stdout",
     "output_type": "stream",
     "text": [
      "Model 1, accuracy: 0.5098\n",
      "Model 2, accuracy: 0.9608\n",
      "Model 3, accuracy: 0.9216\n",
      "Model 4, accuracy: 0.9412\n",
      "Model 5, accuracy: 0.9608\n",
      "The model mean validation accuracy was: 0.8588\n"
     ]
    }
   ],
   "source": [
    "accuracy = []\n",
    "epochs = 50\n",
    "\n",
    "for i in range(5):\n",
    "    # Split the data into train/validation\n",
    "    X_train, X_val, y_train, y_val = train_test_split(X_train_val, y_train_val, test_size=0.15, \n",
    "                                                  random_state=i + 42, shuffle=True, stratify=y_train_val)\n",
    "    \n",
    "    # Define the model\n",
    "    model = Sequential()\n",
    "    model.add(Dense(10, activation='relu', input_shape=(4032,)))\n",
    "    model.add(Dense(1, activation='relu'))\n",
    "    \n",
    "    # Set the random seeds\n",
    "    seed(i + 42)\n",
    "    set_random_seed(i + 42)\n",
    "    \n",
    "    # Compile and train the model\n",
    "    model.compile(optimizer='adam', loss='binary_crossentropy', metrics=['accuracy'])\n",
    "    checkpointer = ModelCheckpoint(filepath='models/transfer_learning/weights.best.nasnet_1.hdf5', \n",
    "                               verbose=0, save_best_only=True)\n",
    "    model.fit(X_train, y_train, validation_data=(X_val, y_val), epochs=epochs, \n",
    "               batch_size=32, callbacks=[checkpointer], verbose=0)\n",
    "    \n",
    "    # Calculate the validation accuracy\n",
    "    val_predictions = (model.predict(X_val) > 0.5) * 1\n",
    "    val_accuracy = accuracy_score(val_predictions, y_val)\n",
    "    accuracy.append(val_accuracy)\n",
    "    print('Model {}, accuracy: {}'.format(i+1, np.round(val_accuracy, 4)))\n",
    "    \n",
    "print('The model mean validation accuracy was: {}'.format(np.round(np.mean(accuracy),4)))  "
   ]
  },
  {
   "cell_type": "markdown",
   "metadata": {},
   "source": [
    "### Third model"
   ]
  },
  {
   "cell_type": "code",
   "execution_count": 48,
   "metadata": {},
   "outputs": [
    {
     "name": "stdout",
     "output_type": "stream",
     "text": [
      "Model 1, accuracy: 0.9216\n",
      "Model 2, accuracy: 0.9412\n",
      "Model 3, accuracy: 0.9216\n",
      "Model 4, accuracy: 0.9804\n",
      "Model 5, accuracy: 0.9804\n",
      "The model mean validation accuracy was: 0.949\n"
     ]
    }
   ],
   "source": [
    "accuracy = []\n",
    "epochs = 50\n",
    "\n",
    "for i in range(5):\n",
    "    # Split the data into train/validation\n",
    "    X_train, X_val, y_train, y_val = train_test_split(X_train_val, y_train_val, test_size=0.15, \n",
    "                                                  random_state=i + 42, shuffle=True, stratify=y_train_val)\n",
    "    \n",
    "    # Define the model\n",
    "    model = Sequential()\n",
    "    model.add(Dense(10, activation='relu', input_shape=(4032,)))\n",
    "    model.add(Dropout(rate=0.2))\n",
    "    model.add(Dense(1, activation='relu'))\n",
    "    \n",
    "    # Set the random seeds\n",
    "    seed(i + 42)\n",
    "    set_random_seed(i + 42)\n",
    "    \n",
    "    # Compile and train the model\n",
    "    model.compile(optimizer='adam', loss='binary_crossentropy', metrics=['accuracy'])\n",
    "    checkpointer = ModelCheckpoint(filepath='models/transfer_learning/weights.best.nasnet_1.hdf5', \n",
    "                               verbose=0, save_best_only=True)\n",
    "    model.fit(X_train, y_train, validation_data=(X_val, y_val), epochs=epochs, \n",
    "               batch_size=32, callbacks=[checkpointer], verbose=0)\n",
    "    \n",
    "    # Calculate the validation accuracy\n",
    "    val_predictions = (model.predict(X_val) > 0.5) * 1\n",
    "    val_accuracy = accuracy_score(val_predictions, y_val)\n",
    "    accuracy.append(val_accuracy)\n",
    "    print('Model {}, accuracy: {}'.format(i+1, np.round(val_accuracy, 4)))\n",
    "    \n",
    "print('The model mean validation accuracy was: {}'.format(np.round(np.mean(accuracy),4)))  "
   ]
  },
  {
   "cell_type": "markdown",
   "metadata": {},
   "source": [
    "# Xception"
   ]
  },
  {
   "cell_type": "code",
   "execution_count": 61,
   "metadata": {},
   "outputs": [
    {
     "data": {
      "text/plain": [
       "(400, 1000)"
      ]
     },
     "execution_count": 61,
     "metadata": {},
     "output_type": "execute_result"
    }
   ],
   "source": [
    "X = np.load('data/bottleneck_features/xception_bottleneck.npy')\n",
    "X.shape"
   ]
  },
  {
   "cell_type": "code",
   "execution_count": 62,
   "metadata": {},
   "outputs": [],
   "source": [
    "from sklearn.model_selection import train_test_split\n",
    "\n",
    "X_train_val, X_test, y_train_val, y_test = train_test_split(X, y, test_size=0.15, random_state=42, shuffle=True, stratify=y)"
   ]
  },
  {
   "cell_type": "code",
   "execution_count": 63,
   "metadata": {},
   "outputs": [
    {
     "name": "stdout",
     "output_type": "stream",
     "text": [
      "Model 1, accuracy: 0.5098\n",
      "Model 2, accuracy: 0.5098\n"
     ]
    },
    {
     "ename": "KeyboardInterrupt",
     "evalue": "",
     "output_type": "error",
     "traceback": [
      "\u001b[1;31m---------------------------------------------------------------------------\u001b[0m",
      "\u001b[1;31mKeyboardInterrupt\u001b[0m                         Traceback (most recent call last)",
      "\u001b[1;32m<ipython-input-63-c4e0a7a79f72>\u001b[0m in \u001b[0;36m<module>\u001b[1;34m\u001b[0m\n\u001b[0;32m     20\u001b[0m                                verbose=0, save_best_only=True)\n\u001b[0;32m     21\u001b[0m     model.fit(X_train, y_train, validation_data=(X_val, y_val), epochs=epochs, \n\u001b[1;32m---> 22\u001b[1;33m                batch_size=32, callbacks=[checkpointer], verbose=0)\n\u001b[0m\u001b[0;32m     23\u001b[0m \u001b[1;33m\u001b[0m\u001b[0m\n\u001b[0;32m     24\u001b[0m     \u001b[1;31m# Calculate the validation accuracy\u001b[0m\u001b[1;33m\u001b[0m\u001b[1;33m\u001b[0m\u001b[1;33m\u001b[0m\u001b[0m\n",
      "\u001b[1;32m~\\Anaconda3\\envs\\gpu\\lib\\site-packages\\keras\\engine\\training.py\u001b[0m in \u001b[0;36mfit\u001b[1;34m(self, x, y, batch_size, epochs, verbose, callbacks, validation_split, validation_data, shuffle, class_weight, sample_weight, initial_epoch, steps_per_epoch, validation_steps, **kwargs)\u001b[0m\n\u001b[0;32m   1037\u001b[0m                                         \u001b[0minitial_epoch\u001b[0m\u001b[1;33m=\u001b[0m\u001b[0minitial_epoch\u001b[0m\u001b[1;33m,\u001b[0m\u001b[1;33m\u001b[0m\u001b[1;33m\u001b[0m\u001b[0m\n\u001b[0;32m   1038\u001b[0m                                         \u001b[0msteps_per_epoch\u001b[0m\u001b[1;33m=\u001b[0m\u001b[0msteps_per_epoch\u001b[0m\u001b[1;33m,\u001b[0m\u001b[1;33m\u001b[0m\u001b[1;33m\u001b[0m\u001b[0m\n\u001b[1;32m-> 1039\u001b[1;33m                                         validation_steps=validation_steps)\n\u001b[0m\u001b[0;32m   1040\u001b[0m \u001b[1;33m\u001b[0m\u001b[0m\n\u001b[0;32m   1041\u001b[0m     def evaluate(self, x=None, y=None,\n",
      "\u001b[1;32m~\\Anaconda3\\envs\\gpu\\lib\\site-packages\\keras\\engine\\training_arrays.py\u001b[0m in \u001b[0;36mfit_loop\u001b[1;34m(model, f, ins, out_labels, batch_size, epochs, verbose, callbacks, val_f, val_ins, shuffle, callback_metrics, initial_epoch, steps_per_epoch, validation_steps)\u001b[0m\n\u001b[0;32m    215\u001b[0m                         \u001b[1;32mfor\u001b[0m \u001b[0ml\u001b[0m\u001b[1;33m,\u001b[0m \u001b[0mo\u001b[0m \u001b[1;32min\u001b[0m \u001b[0mzip\u001b[0m\u001b[1;33m(\u001b[0m\u001b[0mout_labels\u001b[0m\u001b[1;33m,\u001b[0m \u001b[0mval_outs\u001b[0m\u001b[1;33m)\u001b[0m\u001b[1;33m:\u001b[0m\u001b[1;33m\u001b[0m\u001b[1;33m\u001b[0m\u001b[0m\n\u001b[0;32m    216\u001b[0m                             \u001b[0mepoch_logs\u001b[0m\u001b[1;33m[\u001b[0m\u001b[1;34m'val_'\u001b[0m \u001b[1;33m+\u001b[0m \u001b[0ml\u001b[0m\u001b[1;33m]\u001b[0m \u001b[1;33m=\u001b[0m \u001b[0mo\u001b[0m\u001b[1;33m\u001b[0m\u001b[1;33m\u001b[0m\u001b[0m\n\u001b[1;32m--> 217\u001b[1;33m         \u001b[0mcallbacks\u001b[0m\u001b[1;33m.\u001b[0m\u001b[0mon_epoch_end\u001b[0m\u001b[1;33m(\u001b[0m\u001b[0mepoch\u001b[0m\u001b[1;33m,\u001b[0m \u001b[0mepoch_logs\u001b[0m\u001b[1;33m)\u001b[0m\u001b[1;33m\u001b[0m\u001b[1;33m\u001b[0m\u001b[0m\n\u001b[0m\u001b[0;32m    218\u001b[0m         \u001b[1;32mif\u001b[0m \u001b[0mcallback_model\u001b[0m\u001b[1;33m.\u001b[0m\u001b[0mstop_training\u001b[0m\u001b[1;33m:\u001b[0m\u001b[1;33m\u001b[0m\u001b[1;33m\u001b[0m\u001b[0m\n\u001b[0;32m    219\u001b[0m             \u001b[1;32mbreak\u001b[0m\u001b[1;33m\u001b[0m\u001b[1;33m\u001b[0m\u001b[0m\n",
      "\u001b[1;32m~\\Anaconda3\\envs\\gpu\\lib\\site-packages\\keras\\callbacks.py\u001b[0m in \u001b[0;36mon_epoch_end\u001b[1;34m(self, epoch, logs)\u001b[0m\n\u001b[0;32m     77\u001b[0m         \u001b[0mlogs\u001b[0m \u001b[1;33m=\u001b[0m \u001b[0mlogs\u001b[0m \u001b[1;32mor\u001b[0m \u001b[1;33m{\u001b[0m\u001b[1;33m}\u001b[0m\u001b[1;33m\u001b[0m\u001b[1;33m\u001b[0m\u001b[0m\n\u001b[0;32m     78\u001b[0m         \u001b[1;32mfor\u001b[0m \u001b[0mcallback\u001b[0m \u001b[1;32min\u001b[0m \u001b[0mself\u001b[0m\u001b[1;33m.\u001b[0m\u001b[0mcallbacks\u001b[0m\u001b[1;33m:\u001b[0m\u001b[1;33m\u001b[0m\u001b[1;33m\u001b[0m\u001b[0m\n\u001b[1;32m---> 79\u001b[1;33m             \u001b[0mcallback\u001b[0m\u001b[1;33m.\u001b[0m\u001b[0mon_epoch_end\u001b[0m\u001b[1;33m(\u001b[0m\u001b[0mepoch\u001b[0m\u001b[1;33m,\u001b[0m \u001b[0mlogs\u001b[0m\u001b[1;33m)\u001b[0m\u001b[1;33m\u001b[0m\u001b[1;33m\u001b[0m\u001b[0m\n\u001b[0m\u001b[0;32m     80\u001b[0m \u001b[1;33m\u001b[0m\u001b[0m\n\u001b[0;32m     81\u001b[0m     \u001b[1;32mdef\u001b[0m \u001b[0mon_batch_begin\u001b[0m\u001b[1;33m(\u001b[0m\u001b[0mself\u001b[0m\u001b[1;33m,\u001b[0m \u001b[0mbatch\u001b[0m\u001b[1;33m,\u001b[0m \u001b[0mlogs\u001b[0m\u001b[1;33m=\u001b[0m\u001b[1;32mNone\u001b[0m\u001b[1;33m)\u001b[0m\u001b[1;33m:\u001b[0m\u001b[1;33m\u001b[0m\u001b[1;33m\u001b[0m\u001b[0m\n",
      "\u001b[1;32m~\\Anaconda3\\envs\\gpu\\lib\\site-packages\\keras\\callbacks.py\u001b[0m in \u001b[0;36mon_epoch_end\u001b[1;34m(self, epoch, logs)\u001b[0m\n\u001b[0;32m    444\u001b[0m                             \u001b[0mself\u001b[0m\u001b[1;33m.\u001b[0m\u001b[0mmodel\u001b[0m\u001b[1;33m.\u001b[0m\u001b[0msave_weights\u001b[0m\u001b[1;33m(\u001b[0m\u001b[0mfilepath\u001b[0m\u001b[1;33m,\u001b[0m \u001b[0moverwrite\u001b[0m\u001b[1;33m=\u001b[0m\u001b[1;32mTrue\u001b[0m\u001b[1;33m)\u001b[0m\u001b[1;33m\u001b[0m\u001b[1;33m\u001b[0m\u001b[0m\n\u001b[0;32m    445\u001b[0m                         \u001b[1;32melse\u001b[0m\u001b[1;33m:\u001b[0m\u001b[1;33m\u001b[0m\u001b[1;33m\u001b[0m\u001b[0m\n\u001b[1;32m--> 446\u001b[1;33m                             \u001b[0mself\u001b[0m\u001b[1;33m.\u001b[0m\u001b[0mmodel\u001b[0m\u001b[1;33m.\u001b[0m\u001b[0msave\u001b[0m\u001b[1;33m(\u001b[0m\u001b[0mfilepath\u001b[0m\u001b[1;33m,\u001b[0m \u001b[0moverwrite\u001b[0m\u001b[1;33m=\u001b[0m\u001b[1;32mTrue\u001b[0m\u001b[1;33m)\u001b[0m\u001b[1;33m\u001b[0m\u001b[1;33m\u001b[0m\u001b[0m\n\u001b[0m\u001b[0;32m    447\u001b[0m                     \u001b[1;32melse\u001b[0m\u001b[1;33m:\u001b[0m\u001b[1;33m\u001b[0m\u001b[1;33m\u001b[0m\u001b[0m\n\u001b[0;32m    448\u001b[0m                         \u001b[1;32mif\u001b[0m \u001b[0mself\u001b[0m\u001b[1;33m.\u001b[0m\u001b[0mverbose\u001b[0m \u001b[1;33m>\u001b[0m \u001b[1;36m0\u001b[0m\u001b[1;33m:\u001b[0m\u001b[1;33m\u001b[0m\u001b[1;33m\u001b[0m\u001b[0m\n",
      "\u001b[1;32m~\\Anaconda3\\envs\\gpu\\lib\\site-packages\\keras\\engine\\network.py\u001b[0m in \u001b[0;36msave\u001b[1;34m(self, filepath, overwrite, include_optimizer)\u001b[0m\n\u001b[0;32m   1088\u001b[0m             \u001b[1;32mraise\u001b[0m \u001b[0mNotImplementedError\u001b[0m\u001b[1;33m\u001b[0m\u001b[1;33m\u001b[0m\u001b[0m\n\u001b[0;32m   1089\u001b[0m         \u001b[1;32mfrom\u001b[0m \u001b[1;33m.\u001b[0m\u001b[1;33m.\u001b[0m\u001b[0mmodels\u001b[0m \u001b[1;32mimport\u001b[0m \u001b[0msave_model\u001b[0m\u001b[1;33m\u001b[0m\u001b[1;33m\u001b[0m\u001b[0m\n\u001b[1;32m-> 1090\u001b[1;33m         \u001b[0msave_model\u001b[0m\u001b[1;33m(\u001b[0m\u001b[0mself\u001b[0m\u001b[1;33m,\u001b[0m \u001b[0mfilepath\u001b[0m\u001b[1;33m,\u001b[0m \u001b[0moverwrite\u001b[0m\u001b[1;33m,\u001b[0m \u001b[0minclude_optimizer\u001b[0m\u001b[1;33m)\u001b[0m\u001b[1;33m\u001b[0m\u001b[1;33m\u001b[0m\u001b[0m\n\u001b[0m\u001b[0;32m   1091\u001b[0m \u001b[1;33m\u001b[0m\u001b[0m\n\u001b[0;32m   1092\u001b[0m     \u001b[1;32mdef\u001b[0m \u001b[0msave_weights\u001b[0m\u001b[1;33m(\u001b[0m\u001b[0mself\u001b[0m\u001b[1;33m,\u001b[0m \u001b[0mfilepath\u001b[0m\u001b[1;33m,\u001b[0m \u001b[0moverwrite\u001b[0m\u001b[1;33m=\u001b[0m\u001b[1;32mTrue\u001b[0m\u001b[1;33m)\u001b[0m\u001b[1;33m:\u001b[0m\u001b[1;33m\u001b[0m\u001b[1;33m\u001b[0m\u001b[0m\n",
      "\u001b[1;32m~\\Anaconda3\\envs\\gpu\\lib\\site-packages\\keras\\engine\\saving.py\u001b[0m in \u001b[0;36msave_model\u001b[1;34m(model, filepath, overwrite, include_optimizer)\u001b[0m\n\u001b[0;32m    380\u001b[0m \u001b[1;33m\u001b[0m\u001b[0m\n\u001b[0;32m    381\u001b[0m     \u001b[1;32mtry\u001b[0m\u001b[1;33m:\u001b[0m\u001b[1;33m\u001b[0m\u001b[1;33m\u001b[0m\u001b[0m\n\u001b[1;32m--> 382\u001b[1;33m         \u001b[0m_serialize_model\u001b[0m\u001b[1;33m(\u001b[0m\u001b[0mmodel\u001b[0m\u001b[1;33m,\u001b[0m \u001b[0mf\u001b[0m\u001b[1;33m,\u001b[0m \u001b[0minclude_optimizer\u001b[0m\u001b[1;33m)\u001b[0m\u001b[1;33m\u001b[0m\u001b[1;33m\u001b[0m\u001b[0m\n\u001b[0m\u001b[0;32m    383\u001b[0m     \u001b[1;32mfinally\u001b[0m\u001b[1;33m:\u001b[0m\u001b[1;33m\u001b[0m\u001b[1;33m\u001b[0m\u001b[0m\n\u001b[0;32m    384\u001b[0m         \u001b[1;32mif\u001b[0m \u001b[0mopened_new_file\u001b[0m\u001b[1;33m:\u001b[0m\u001b[1;33m\u001b[0m\u001b[1;33m\u001b[0m\u001b[0m\n",
      "\u001b[1;32m~\\Anaconda3\\envs\\gpu\\lib\\site-packages\\keras\\engine\\saving.py\u001b[0m in \u001b[0;36m_serialize_model\u001b[1;34m(model, f, include_optimizer)\u001b[0m\n\u001b[0;32m    130\u001b[0m                 'optimizer_config': {\n\u001b[0;32m    131\u001b[0m                     \u001b[1;34m'class_name'\u001b[0m\u001b[1;33m:\u001b[0m \u001b[0mmodel\u001b[0m\u001b[1;33m.\u001b[0m\u001b[0moptimizer\u001b[0m\u001b[1;33m.\u001b[0m\u001b[0m__class__\u001b[0m\u001b[1;33m.\u001b[0m\u001b[0m__name__\u001b[0m\u001b[1;33m,\u001b[0m\u001b[1;33m\u001b[0m\u001b[1;33m\u001b[0m\u001b[0m\n\u001b[1;32m--> 132\u001b[1;33m                     \u001b[1;34m'config'\u001b[0m\u001b[1;33m:\u001b[0m \u001b[0mmodel\u001b[0m\u001b[1;33m.\u001b[0m\u001b[0moptimizer\u001b[0m\u001b[1;33m.\u001b[0m\u001b[0mget_config\u001b[0m\u001b[1;33m(\u001b[0m\u001b[1;33m)\u001b[0m\u001b[1;33m\u001b[0m\u001b[1;33m\u001b[0m\u001b[0m\n\u001b[0m\u001b[0;32m    133\u001b[0m                 },\n\u001b[0;32m    134\u001b[0m                 \u001b[1;34m'loss'\u001b[0m\u001b[1;33m:\u001b[0m \u001b[0mmodel\u001b[0m\u001b[1;33m.\u001b[0m\u001b[0mloss\u001b[0m\u001b[1;33m,\u001b[0m\u001b[1;33m\u001b[0m\u001b[1;33m\u001b[0m\u001b[0m\n",
      "\u001b[1;32m~\\Anaconda3\\envs\\gpu\\lib\\site-packages\\keras\\optimizers.py\u001b[0m in \u001b[0;36mget_config\u001b[1;34m(self)\u001b[0m\n\u001b[0;32m    518\u001b[0m                   \u001b[1;34m'beta_1'\u001b[0m\u001b[1;33m:\u001b[0m \u001b[0mfloat\u001b[0m\u001b[1;33m(\u001b[0m\u001b[0mK\u001b[0m\u001b[1;33m.\u001b[0m\u001b[0mget_value\u001b[0m\u001b[1;33m(\u001b[0m\u001b[0mself\u001b[0m\u001b[1;33m.\u001b[0m\u001b[0mbeta_1\u001b[0m\u001b[1;33m)\u001b[0m\u001b[1;33m)\u001b[0m\u001b[1;33m,\u001b[0m\u001b[1;33m\u001b[0m\u001b[1;33m\u001b[0m\u001b[0m\n\u001b[0;32m    519\u001b[0m                   \u001b[1;34m'beta_2'\u001b[0m\u001b[1;33m:\u001b[0m \u001b[0mfloat\u001b[0m\u001b[1;33m(\u001b[0m\u001b[0mK\u001b[0m\u001b[1;33m.\u001b[0m\u001b[0mget_value\u001b[0m\u001b[1;33m(\u001b[0m\u001b[0mself\u001b[0m\u001b[1;33m.\u001b[0m\u001b[0mbeta_2\u001b[0m\u001b[1;33m)\u001b[0m\u001b[1;33m)\u001b[0m\u001b[1;33m,\u001b[0m\u001b[1;33m\u001b[0m\u001b[1;33m\u001b[0m\u001b[0m\n\u001b[1;32m--> 520\u001b[1;33m                   \u001b[1;34m'decay'\u001b[0m\u001b[1;33m:\u001b[0m \u001b[0mfloat\u001b[0m\u001b[1;33m(\u001b[0m\u001b[0mK\u001b[0m\u001b[1;33m.\u001b[0m\u001b[0mget_value\u001b[0m\u001b[1;33m(\u001b[0m\u001b[0mself\u001b[0m\u001b[1;33m.\u001b[0m\u001b[0mdecay\u001b[0m\u001b[1;33m)\u001b[0m\u001b[1;33m)\u001b[0m\u001b[1;33m,\u001b[0m\u001b[1;33m\u001b[0m\u001b[1;33m\u001b[0m\u001b[0m\n\u001b[0m\u001b[0;32m    521\u001b[0m                   \u001b[1;34m'epsilon'\u001b[0m\u001b[1;33m:\u001b[0m \u001b[0mself\u001b[0m\u001b[1;33m.\u001b[0m\u001b[0mepsilon\u001b[0m\u001b[1;33m,\u001b[0m\u001b[1;33m\u001b[0m\u001b[1;33m\u001b[0m\u001b[0m\n\u001b[0;32m    522\u001b[0m                   'amsgrad': self.amsgrad}\n",
      "\u001b[1;32m~\\Anaconda3\\envs\\gpu\\lib\\site-packages\\keras\\backend\\tensorflow_backend.py\u001b[0m in \u001b[0;36mget_value\u001b[1;34m(x)\u001b[0m\n\u001b[0;32m   2405\u001b[0m         \u001b[0mA\u001b[0m \u001b[0mNumpy\u001b[0m \u001b[0marray\u001b[0m\u001b[1;33m.\u001b[0m\u001b[1;33m\u001b[0m\u001b[1;33m\u001b[0m\u001b[0m\n\u001b[0;32m   2406\u001b[0m     \"\"\"\n\u001b[1;32m-> 2407\u001b[1;33m     \u001b[1;32mreturn\u001b[0m \u001b[0mx\u001b[0m\u001b[1;33m.\u001b[0m\u001b[0meval\u001b[0m\u001b[1;33m(\u001b[0m\u001b[0msession\u001b[0m\u001b[1;33m=\u001b[0m\u001b[0mget_session\u001b[0m\u001b[1;33m(\u001b[0m\u001b[1;33m)\u001b[0m\u001b[1;33m)\u001b[0m\u001b[1;33m\u001b[0m\u001b[1;33m\u001b[0m\u001b[0m\n\u001b[0m\u001b[0;32m   2408\u001b[0m \u001b[1;33m\u001b[0m\u001b[0m\n\u001b[0;32m   2409\u001b[0m \u001b[1;33m\u001b[0m\u001b[0m\n",
      "\u001b[1;32m~\\Anaconda3\\envs\\gpu\\lib\\site-packages\\tensorflow\\python\\ops\\variables.py\u001b[0m in \u001b[0;36meval\u001b[1;34m(self, session)\u001b[0m\n\u001b[0;32m   1693\u001b[0m       \u001b[0mA\u001b[0m \u001b[0mnumpy\u001b[0m\u001b[0;31m \u001b[0m\u001b[0;31m`\u001b[0m\u001b[0mndarray\u001b[0m\u001b[0;31m`\u001b[0m \u001b[1;32mwith\u001b[0m \u001b[0ma\u001b[0m \u001b[0mcopy\u001b[0m \u001b[0mof\u001b[0m \u001b[0mthe\u001b[0m \u001b[0mvalue\u001b[0m \u001b[0mof\u001b[0m \u001b[0mthis\u001b[0m \u001b[0mvariable\u001b[0m\u001b[1;33m.\u001b[0m\u001b[1;33m\u001b[0m\u001b[1;33m\u001b[0m\u001b[0m\n\u001b[0;32m   1694\u001b[0m     \"\"\"\n\u001b[1;32m-> 1695\u001b[1;33m     \u001b[1;32mreturn\u001b[0m \u001b[0mself\u001b[0m\u001b[1;33m.\u001b[0m\u001b[0m_variable\u001b[0m\u001b[1;33m.\u001b[0m\u001b[0meval\u001b[0m\u001b[1;33m(\u001b[0m\u001b[0msession\u001b[0m\u001b[1;33m=\u001b[0m\u001b[0msession\u001b[0m\u001b[1;33m)\u001b[0m\u001b[1;33m\u001b[0m\u001b[1;33m\u001b[0m\u001b[0m\n\u001b[0m\u001b[0;32m   1696\u001b[0m \u001b[1;33m\u001b[0m\u001b[0m\n\u001b[0;32m   1697\u001b[0m   \u001b[1;32mdef\u001b[0m \u001b[0minitialized_value\u001b[0m\u001b[1;33m(\u001b[0m\u001b[0mself\u001b[0m\u001b[1;33m)\u001b[0m\u001b[1;33m:\u001b[0m\u001b[1;33m\u001b[0m\u001b[1;33m\u001b[0m\u001b[0m\n",
      "\u001b[1;32m~\\Anaconda3\\envs\\gpu\\lib\\site-packages\\tensorflow\\python\\framework\\ops.py\u001b[0m in \u001b[0;36meval\u001b[1;34m(self, feed_dict, session)\u001b[0m\n\u001b[0;32m    693\u001b[0m \u001b[1;33m\u001b[0m\u001b[0m\n\u001b[0;32m    694\u001b[0m     \"\"\"\n\u001b[1;32m--> 695\u001b[1;33m     \u001b[1;32mreturn\u001b[0m \u001b[0m_eval_using_default_session\u001b[0m\u001b[1;33m(\u001b[0m\u001b[0mself\u001b[0m\u001b[1;33m,\u001b[0m \u001b[0mfeed_dict\u001b[0m\u001b[1;33m,\u001b[0m \u001b[0mself\u001b[0m\u001b[1;33m.\u001b[0m\u001b[0mgraph\u001b[0m\u001b[1;33m,\u001b[0m \u001b[0msession\u001b[0m\u001b[1;33m)\u001b[0m\u001b[1;33m\u001b[0m\u001b[1;33m\u001b[0m\u001b[0m\n\u001b[0m\u001b[0;32m    696\u001b[0m \u001b[1;33m\u001b[0m\u001b[0m\n\u001b[0;32m    697\u001b[0m \u001b[1;33m\u001b[0m\u001b[0m\n",
      "\u001b[1;32m~\\Anaconda3\\envs\\gpu\\lib\\site-packages\\tensorflow\\python\\framework\\ops.py\u001b[0m in \u001b[0;36m_eval_using_default_session\u001b[1;34m(tensors, feed_dict, graph, session)\u001b[0m\n\u001b[0;32m   5179\u001b[0m                        \u001b[1;34m\"the tensor's graph is different from the session's \"\u001b[0m\u001b[1;33m\u001b[0m\u001b[1;33m\u001b[0m\u001b[0m\n\u001b[0;32m   5180\u001b[0m                        \"graph.\")\n\u001b[1;32m-> 5181\u001b[1;33m   \u001b[1;32mreturn\u001b[0m \u001b[0msession\u001b[0m\u001b[1;33m.\u001b[0m\u001b[0mrun\u001b[0m\u001b[1;33m(\u001b[0m\u001b[0mtensors\u001b[0m\u001b[1;33m,\u001b[0m \u001b[0mfeed_dict\u001b[0m\u001b[1;33m)\u001b[0m\u001b[1;33m\u001b[0m\u001b[1;33m\u001b[0m\u001b[0m\n\u001b[0m\u001b[0;32m   5182\u001b[0m \u001b[1;33m\u001b[0m\u001b[0m\n\u001b[0;32m   5183\u001b[0m \u001b[1;33m\u001b[0m\u001b[0m\n",
      "\u001b[1;32m~\\Anaconda3\\envs\\gpu\\lib\\site-packages\\tensorflow\\python\\client\\session.py\u001b[0m in \u001b[0;36mrun\u001b[1;34m(self, fetches, feed_dict, options, run_metadata)\u001b[0m\n\u001b[0;32m    927\u001b[0m     \u001b[1;32mtry\u001b[0m\u001b[1;33m:\u001b[0m\u001b[1;33m\u001b[0m\u001b[1;33m\u001b[0m\u001b[0m\n\u001b[0;32m    928\u001b[0m       result = self._run(None, fetches, feed_dict, options_ptr,\n\u001b[1;32m--> 929\u001b[1;33m                          run_metadata_ptr)\n\u001b[0m\u001b[0;32m    930\u001b[0m       \u001b[1;32mif\u001b[0m \u001b[0mrun_metadata\u001b[0m\u001b[1;33m:\u001b[0m\u001b[1;33m\u001b[0m\u001b[1;33m\u001b[0m\u001b[0m\n\u001b[0;32m    931\u001b[0m         \u001b[0mproto_data\u001b[0m \u001b[1;33m=\u001b[0m \u001b[0mtf_session\u001b[0m\u001b[1;33m.\u001b[0m\u001b[0mTF_GetBuffer\u001b[0m\u001b[1;33m(\u001b[0m\u001b[0mrun_metadata_ptr\u001b[0m\u001b[1;33m)\u001b[0m\u001b[1;33m\u001b[0m\u001b[1;33m\u001b[0m\u001b[0m\n",
      "\u001b[1;32m~\\Anaconda3\\envs\\gpu\\lib\\site-packages\\tensorflow\\python\\client\\session.py\u001b[0m in \u001b[0;36m_run\u001b[1;34m(self, handle, fetches, feed_dict, options, run_metadata)\u001b[0m\n\u001b[0;32m   1150\u001b[0m     \u001b[1;32mif\u001b[0m \u001b[0mfinal_fetches\u001b[0m \u001b[1;32mor\u001b[0m \u001b[0mfinal_targets\u001b[0m \u001b[1;32mor\u001b[0m \u001b[1;33m(\u001b[0m\u001b[0mhandle\u001b[0m \u001b[1;32mand\u001b[0m \u001b[0mfeed_dict_tensor\u001b[0m\u001b[1;33m)\u001b[0m\u001b[1;33m:\u001b[0m\u001b[1;33m\u001b[0m\u001b[1;33m\u001b[0m\u001b[0m\n\u001b[0;32m   1151\u001b[0m       results = self._do_run(handle, final_targets, final_fetches,\n\u001b[1;32m-> 1152\u001b[1;33m                              feed_dict_tensor, options, run_metadata)\n\u001b[0m\u001b[0;32m   1153\u001b[0m     \u001b[1;32melse\u001b[0m\u001b[1;33m:\u001b[0m\u001b[1;33m\u001b[0m\u001b[1;33m\u001b[0m\u001b[0m\n\u001b[0;32m   1154\u001b[0m       \u001b[0mresults\u001b[0m \u001b[1;33m=\u001b[0m \u001b[1;33m[\u001b[0m\u001b[1;33m]\u001b[0m\u001b[1;33m\u001b[0m\u001b[1;33m\u001b[0m\u001b[0m\n",
      "\u001b[1;32m~\\Anaconda3\\envs\\gpu\\lib\\site-packages\\tensorflow\\python\\client\\session.py\u001b[0m in \u001b[0;36m_do_run\u001b[1;34m(self, handle, target_list, fetch_list, feed_dict, options, run_metadata)\u001b[0m\n\u001b[0;32m   1326\u001b[0m     \u001b[1;32mif\u001b[0m \u001b[0mhandle\u001b[0m \u001b[1;32mis\u001b[0m \u001b[1;32mNone\u001b[0m\u001b[1;33m:\u001b[0m\u001b[1;33m\u001b[0m\u001b[1;33m\u001b[0m\u001b[0m\n\u001b[0;32m   1327\u001b[0m       return self._do_call(_run_fn, feeds, fetches, targets, options,\n\u001b[1;32m-> 1328\u001b[1;33m                            run_metadata)\n\u001b[0m\u001b[0;32m   1329\u001b[0m     \u001b[1;32melse\u001b[0m\u001b[1;33m:\u001b[0m\u001b[1;33m\u001b[0m\u001b[1;33m\u001b[0m\u001b[0m\n\u001b[0;32m   1330\u001b[0m       \u001b[1;32mreturn\u001b[0m \u001b[0mself\u001b[0m\u001b[1;33m.\u001b[0m\u001b[0m_do_call\u001b[0m\u001b[1;33m(\u001b[0m\u001b[0m_prun_fn\u001b[0m\u001b[1;33m,\u001b[0m \u001b[0mhandle\u001b[0m\u001b[1;33m,\u001b[0m \u001b[0mfeeds\u001b[0m\u001b[1;33m,\u001b[0m \u001b[0mfetches\u001b[0m\u001b[1;33m)\u001b[0m\u001b[1;33m\u001b[0m\u001b[1;33m\u001b[0m\u001b[0m\n",
      "\u001b[1;32m~\\Anaconda3\\envs\\gpu\\lib\\site-packages\\tensorflow\\python\\client\\session.py\u001b[0m in \u001b[0;36m_do_call\u001b[1;34m(self, fn, *args)\u001b[0m\n\u001b[0;32m   1332\u001b[0m   \u001b[1;32mdef\u001b[0m \u001b[0m_do_call\u001b[0m\u001b[1;33m(\u001b[0m\u001b[0mself\u001b[0m\u001b[1;33m,\u001b[0m \u001b[0mfn\u001b[0m\u001b[1;33m,\u001b[0m \u001b[1;33m*\u001b[0m\u001b[0margs\u001b[0m\u001b[1;33m)\u001b[0m\u001b[1;33m:\u001b[0m\u001b[1;33m\u001b[0m\u001b[1;33m\u001b[0m\u001b[0m\n\u001b[0;32m   1333\u001b[0m     \u001b[1;32mtry\u001b[0m\u001b[1;33m:\u001b[0m\u001b[1;33m\u001b[0m\u001b[1;33m\u001b[0m\u001b[0m\n\u001b[1;32m-> 1334\u001b[1;33m       \u001b[1;32mreturn\u001b[0m \u001b[0mfn\u001b[0m\u001b[1;33m(\u001b[0m\u001b[1;33m*\u001b[0m\u001b[0margs\u001b[0m\u001b[1;33m)\u001b[0m\u001b[1;33m\u001b[0m\u001b[1;33m\u001b[0m\u001b[0m\n\u001b[0m\u001b[0;32m   1335\u001b[0m     \u001b[1;32mexcept\u001b[0m \u001b[0merrors\u001b[0m\u001b[1;33m.\u001b[0m\u001b[0mOpError\u001b[0m \u001b[1;32mas\u001b[0m \u001b[0me\u001b[0m\u001b[1;33m:\u001b[0m\u001b[1;33m\u001b[0m\u001b[1;33m\u001b[0m\u001b[0m\n\u001b[0;32m   1336\u001b[0m       \u001b[0mmessage\u001b[0m \u001b[1;33m=\u001b[0m \u001b[0mcompat\u001b[0m\u001b[1;33m.\u001b[0m\u001b[0mas_text\u001b[0m\u001b[1;33m(\u001b[0m\u001b[0me\u001b[0m\u001b[1;33m.\u001b[0m\u001b[0mmessage\u001b[0m\u001b[1;33m)\u001b[0m\u001b[1;33m\u001b[0m\u001b[1;33m\u001b[0m\u001b[0m\n",
      "\u001b[1;32m~\\Anaconda3\\envs\\gpu\\lib\\site-packages\\tensorflow\\python\\client\\session.py\u001b[0m in \u001b[0;36m_run_fn\u001b[1;34m(feed_dict, fetch_list, target_list, options, run_metadata)\u001b[0m\n\u001b[0;32m   1317\u001b[0m       \u001b[0mself\u001b[0m\u001b[1;33m.\u001b[0m\u001b[0m_extend_graph\u001b[0m\u001b[1;33m(\u001b[0m\u001b[1;33m)\u001b[0m\u001b[1;33m\u001b[0m\u001b[1;33m\u001b[0m\u001b[0m\n\u001b[0;32m   1318\u001b[0m       return self._call_tf_sessionrun(\n\u001b[1;32m-> 1319\u001b[1;33m           options, feed_dict, fetch_list, target_list, run_metadata)\n\u001b[0m\u001b[0;32m   1320\u001b[0m \u001b[1;33m\u001b[0m\u001b[0m\n\u001b[0;32m   1321\u001b[0m     \u001b[1;32mdef\u001b[0m \u001b[0m_prun_fn\u001b[0m\u001b[1;33m(\u001b[0m\u001b[0mhandle\u001b[0m\u001b[1;33m,\u001b[0m \u001b[0mfeed_dict\u001b[0m\u001b[1;33m,\u001b[0m \u001b[0mfetch_list\u001b[0m\u001b[1;33m)\u001b[0m\u001b[1;33m:\u001b[0m\u001b[1;33m\u001b[0m\u001b[1;33m\u001b[0m\u001b[0m\n",
      "\u001b[1;32m~\\Anaconda3\\envs\\gpu\\lib\\site-packages\\tensorflow\\python\\client\\session.py\u001b[0m in \u001b[0;36m_call_tf_sessionrun\u001b[1;34m(self, options, feed_dict, fetch_list, target_list, run_metadata)\u001b[0m\n\u001b[0;32m   1405\u001b[0m     return tf_session.TF_SessionRun_wrapper(\n\u001b[0;32m   1406\u001b[0m         \u001b[0mself\u001b[0m\u001b[1;33m.\u001b[0m\u001b[0m_session\u001b[0m\u001b[1;33m,\u001b[0m \u001b[0moptions\u001b[0m\u001b[1;33m,\u001b[0m \u001b[0mfeed_dict\u001b[0m\u001b[1;33m,\u001b[0m \u001b[0mfetch_list\u001b[0m\u001b[1;33m,\u001b[0m \u001b[0mtarget_list\u001b[0m\u001b[1;33m,\u001b[0m\u001b[1;33m\u001b[0m\u001b[1;33m\u001b[0m\u001b[0m\n\u001b[1;32m-> 1407\u001b[1;33m         run_metadata)\n\u001b[0m\u001b[0;32m   1408\u001b[0m \u001b[1;33m\u001b[0m\u001b[0m\n\u001b[0;32m   1409\u001b[0m   \u001b[1;32mdef\u001b[0m \u001b[0m_call_tf_sessionprun\u001b[0m\u001b[1;33m(\u001b[0m\u001b[0mself\u001b[0m\u001b[1;33m,\u001b[0m \u001b[0mhandle\u001b[0m\u001b[1;33m,\u001b[0m \u001b[0mfeed_dict\u001b[0m\u001b[1;33m,\u001b[0m \u001b[0mfetch_list\u001b[0m\u001b[1;33m)\u001b[0m\u001b[1;33m:\u001b[0m\u001b[1;33m\u001b[0m\u001b[1;33m\u001b[0m\u001b[0m\n",
      "\u001b[1;31mKeyboardInterrupt\u001b[0m: "
     ]
    }
   ],
   "source": [
    "accuracy = []\n",
    "epochs = 50\n",
    "\n",
    "for i in range(5):\n",
    "    # Split the data into train/validation\n",
    "    X_train, X_val, y_train, y_val = train_test_split(X_train_val, y_train_val, test_size=0.15, \n",
    "                                                  random_state=i + 42, shuffle=True, stratify=y_train_val)\n",
    "    \n",
    "    # Define the model\n",
    "    model = Sequential()\n",
    "    model.add(Dense(1, activation='relu', input_shape=(1000,)))\n",
    "    \n",
    "    # Set the random seeds\n",
    "    seed(i + 42)\n",
    "    set_random_seed(i + 42)\n",
    "    \n",
    "    # Compile and train the model\n",
    "    model.compile(optimizer='adam', loss='binary_crossentropy', metrics=['accuracy'])\n",
    "    checkpointer = ModelCheckpoint(filepath='models/transfer_learning/weights.best.nasnet_1.hdf5', \n",
    "                               verbose=0, save_best_only=True)\n",
    "    model.fit(X_train, y_train, validation_data=(X_val, y_val), epochs=epochs, \n",
    "               batch_size=32, callbacks=[checkpointer], verbose=0)\n",
    "    \n",
    "    # Calculate the validation accuracy\n",
    "    val_predictions = (model.predict(X_val) > 0.5) * 1\n",
    "    val_accuracy = accuracy_score(val_predictions, y_val)\n",
    "    accuracy.append(val_accuracy)\n",
    "    print('Model {}, accuracy: {}'.format(i+1, np.round(val_accuracy, 4)))\n",
    "    \n",
    "print('The model mean validation accuracy was: {}'.format(np.round(np.mean(accuracy),4)))    "
   ]
  },
  {
   "cell_type": "code",
   "execution_count": 53,
   "metadata": {},
   "outputs": [
    {
     "name": "stdout",
     "output_type": "stream",
     "text": [
      "Model 1, accuracy: 0.5098\n",
      "Model 2, accuracy: 0.8824\n",
      "Model 3, accuracy: 0.8039\n",
      "Model 4, accuracy: 0.4902\n",
      "Model 5, accuracy: 0.902\n",
      "The model mean validation accuracy was: 0.7176\n"
     ]
    }
   ],
   "source": [
    "accuracy = []\n",
    "epochs = 50\n",
    "\n",
    "for i in range(5):\n",
    "    # Split the data into train/validation\n",
    "    X_train, X_val, y_train, y_val = train_test_split(X_train_val, y_train_val, test_size=0.15, \n",
    "                                                  random_state=i + 42, shuffle=True, stratify=y_train_val)\n",
    "    \n",
    "    # Define the model\n",
    "    model = Sequential()\n",
    "    model.add(Dense(10, activation='relu', input_shape=(1000,)))\n",
    "    model.add(Dense(1, activation='relu'))\n",
    "    \n",
    "    # Set the random seeds\n",
    "    seed(i + 42)\n",
    "    set_random_seed(i + 42)\n",
    "    \n",
    "    # Compile and train the model\n",
    "    model.compile(optimizer='adam', loss='binary_crossentropy', metrics=['accuracy'])\n",
    "    checkpointer = ModelCheckpoint(filepath='models/transfer_learning/weights.best.nasnet_1.hdf5', \n",
    "                               verbose=0, save_best_only=True)\n",
    "    model.fit(X_train, y_train, validation_data=(X_val, y_val), epochs=epochs, \n",
    "               batch_size=32, callbacks=[checkpointer], verbose=0)\n",
    "    \n",
    "    # Calculate the validation accuracy\n",
    "    val_predictions = (model.predict(X_val) > 0.5) * 1\n",
    "    val_accuracy = accuracy_score(val_predictions, y_val)\n",
    "    accuracy.append(val_accuracy)\n",
    "    print('Model {}, accuracy: {}'.format(i+1, np.round(val_accuracy, 4)))\n",
    "    \n",
    "print('The model mean validation accuracy was: {}'.format(np.round(np.mean(accuracy),4)))  "
   ]
  },
  {
   "cell_type": "code",
   "execution_count": 54,
   "metadata": {},
   "outputs": [
    {
     "name": "stdout",
     "output_type": "stream",
     "text": [
      "Model 1, accuracy: 0.8039\n",
      "Model 2, accuracy: 0.5098\n",
      "Model 3, accuracy: 0.8627\n",
      "Model 4, accuracy: 0.8431\n",
      "Model 5, accuracy: 0.4902\n",
      "The model mean validation accuracy was: 0.702\n"
     ]
    }
   ],
   "source": [
    "accuracy = []\n",
    "epochs = 50\n",
    "\n",
    "for i in range(5):\n",
    "    # Split the data into train/validation\n",
    "    X_train, X_val, y_train, y_val = train_test_split(X_train_val, y_train_val, test_size=0.15, \n",
    "                                                  random_state=i + 42, shuffle=True, stratify=y_train_val)\n",
    "    \n",
    "    # Define the model\n",
    "    model = Sequential()\n",
    "    model.add(Dense(10, activation='relu', input_shape=(1000,)))\n",
    "    model.add(Dropout(rate=0.2))\n",
    "    model.add(Dense(1, activation='relu'))\n",
    "    \n",
    "    # Set the random seeds\n",
    "    seed(i + 42)\n",
    "    set_random_seed(i + 42)\n",
    "    \n",
    "    # Compile and train the model\n",
    "    model.compile(optimizer='adam', loss='binary_crossentropy', metrics=['accuracy'])\n",
    "    checkpointer = ModelCheckpoint(filepath='models/transfer_learning/weights.best.nasnet_1.hdf5', \n",
    "                               verbose=0, save_best_only=True)\n",
    "    model.fit(X_train, y_train, validation_data=(X_val, y_val), epochs=epochs, \n",
    "               batch_size=32, callbacks=[checkpointer], verbose=0)\n",
    "    \n",
    "    # Calculate the validation accuracy\n",
    "    val_predictions = (model.predict(X_val) > 0.5) * 1\n",
    "    val_accuracy = accuracy_score(val_predictions, y_val)\n",
    "    accuracy.append(val_accuracy)\n",
    "    print('Model {}, accuracy: {}'.format(i+1, np.round(val_accuracy, 4)))\n",
    "    \n",
    "print('The model mean validation accuracy was: {}'.format(np.round(np.mean(accuracy),4)))  "
   ]
  },
  {
   "cell_type": "markdown",
   "metadata": {},
   "source": [
    "# Inception"
   ]
  },
  {
   "cell_type": "code",
   "execution_count": 55,
   "metadata": {},
   "outputs": [
    {
     "data": {
      "text/plain": [
       "(400, 1536)"
      ]
     },
     "execution_count": 55,
     "metadata": {},
     "output_type": "execute_result"
    }
   ],
   "source": [
    "X = np.load('data/bottleneck_features/inception_bottleneck.npy')\n",
    "X.shape"
   ]
  },
  {
   "cell_type": "code",
   "execution_count": 56,
   "metadata": {},
   "outputs": [],
   "source": [
    "from sklearn.model_selection import train_test_split\n",
    "\n",
    "X_train_val, X_test, y_train_val, y_test = train_test_split(X, y, test_size=0.15, random_state=42, shuffle=True, stratify=y)"
   ]
  },
  {
   "cell_type": "code",
   "execution_count": 57,
   "metadata": {},
   "outputs": [
    {
     "name": "stdout",
     "output_type": "stream",
     "text": [
      "Model 1, accuracy: 0.902\n",
      "Model 2, accuracy: 0.902\n",
      "Model 3, accuracy: 0.9608\n",
      "Model 4, accuracy: 0.9608\n",
      "Model 5, accuracy: 0.4902\n",
      "The model mean validation accuracy was: 0.8431\n"
     ]
    }
   ],
   "source": [
    "accuracy = []\n",
    "epochs = 50\n",
    "\n",
    "for i in range(5):\n",
    "    # Split the data into train/validation\n",
    "    X_train, X_val, y_train, y_val = train_test_split(X_train_val, y_train_val, test_size=0.15, \n",
    "                                                  random_state=i + 42, shuffle=True, stratify=y_train_val)\n",
    "    \n",
    "    # Define the model\n",
    "    model = Sequential()\n",
    "    model.add(Dense(1, activation='relu', input_shape=(1536,)))\n",
    "    \n",
    "    # Set the random seeds\n",
    "    seed(i + 42)\n",
    "    set_random_seed(i + 42)\n",
    "    \n",
    "    # Compile and train the model\n",
    "    model.compile(optimizer='adam', loss='binary_crossentropy', metrics=['accuracy'])\n",
    "    checkpointer = ModelCheckpoint(filepath='models/transfer_learning/weights.best.nasnet_1.hdf5', \n",
    "                               verbose=0, save_best_only=True)\n",
    "    model.fit(X_train, y_train, validation_data=(X_val, y_val), epochs=epochs, \n",
    "               batch_size=32, callbacks=[checkpointer], verbose=0)\n",
    "    \n",
    "    # Calculate the validation accuracy\n",
    "    val_predictions = (model.predict(X_val) > 0.5) * 1\n",
    "    val_accuracy = accuracy_score(val_predictions, y_val)\n",
    "    accuracy.append(val_accuracy)\n",
    "    print('Model {}, accuracy: {}'.format(i+1, np.round(val_accuracy, 4)))\n",
    "    \n",
    "print('The model mean validation accuracy was: {}'.format(np.round(np.mean(accuracy),4)))    "
   ]
  },
  {
   "cell_type": "code",
   "execution_count": 58,
   "metadata": {},
   "outputs": [
    {
     "name": "stdout",
     "output_type": "stream",
     "text": [
      "Model 1, accuracy: 0.8431\n",
      "Model 2, accuracy: 0.9608\n",
      "Model 3, accuracy: 0.9804\n",
      "Model 4, accuracy: 0.4902\n",
      "Model 5, accuracy: 0.9804\n",
      "The model mean validation accuracy was: 0.851\n"
     ]
    }
   ],
   "source": [
    "accuracy = []\n",
    "epochs = 50\n",
    "\n",
    "for i in range(5):\n",
    "    # Split the data into train/validation\n",
    "    X_train, X_val, y_train, y_val = train_test_split(X_train_val, y_train_val, test_size=0.15, \n",
    "                                                  random_state=i + 42, shuffle=True, stratify=y_train_val)\n",
    "    \n",
    "    # Define the model\n",
    "    model = Sequential()\n",
    "    model.add(Dense(10, activation='relu', input_shape=(1536,)))\n",
    "    model.add(Dense(1, activation='relu'))\n",
    "    \n",
    "    # Set the random seeds\n",
    "    seed(i + 42)\n",
    "    set_random_seed(i + 42)\n",
    "    \n",
    "    # Compile and train the model\n",
    "    model.compile(optimizer='adam', loss='binary_crossentropy', metrics=['accuracy'])\n",
    "    checkpointer = ModelCheckpoint(filepath='models/transfer_learning/weights.best.nasnet_1.hdf5', \n",
    "                               verbose=0, save_best_only=True)\n",
    "    model.fit(X_train, y_train, validation_data=(X_val, y_val), epochs=epochs, \n",
    "               batch_size=32, callbacks=[checkpointer], verbose=0)\n",
    "    \n",
    "    # Calculate the validation accuracy\n",
    "    val_predictions = (model.predict(X_val) > 0.5) * 1\n",
    "    val_accuracy = accuracy_score(val_predictions, y_val)\n",
    "    accuracy.append(val_accuracy)\n",
    "    print('Model {}, accuracy: {}'.format(i+1, np.round(val_accuracy, 4)))\n",
    "    \n",
    "print('The model mean validation accuracy was: {}'.format(np.round(np.mean(accuracy),4)))  "
   ]
  },
  {
   "cell_type": "code",
   "execution_count": 59,
   "metadata": {},
   "outputs": [
    {
     "name": "stdout",
     "output_type": "stream",
     "text": [
      "Model 1, accuracy: 0.9216\n",
      "Model 2, accuracy: 0.5098\n",
      "Model 3, accuracy: 0.9804\n",
      "Model 4, accuracy: 0.4902\n",
      "Model 5, accuracy: 0.902\n",
      "The model mean validation accuracy was: 0.7608\n"
     ]
    }
   ],
   "source": [
    "accuracy = []\n",
    "epochs = 50\n",
    "\n",
    "for i in range(5):\n",
    "    # Split the data into train/validation\n",
    "    X_train, X_val, y_train, y_val = train_test_split(X_train_val, y_train_val, test_size=0.15, \n",
    "                                                  random_state=i + 42, shuffle=True, stratify=y_train_val)\n",
    "    \n",
    "    # Define the model\n",
    "    model = Sequential()\n",
    "    model.add(Dense(10, activation='relu', input_shape=(1536,)))\n",
    "    model.add(Dropout(rate=0.2))\n",
    "    model.add(Dense(1, activation='relu'))\n",
    "    \n",
    "    # Set the random seeds\n",
    "    seed(i + 42)\n",
    "    set_random_seed(i + 42)\n",
    "    \n",
    "    # Compile and train the model\n",
    "    model.compile(optimizer='adam', loss='binary_crossentropy', metrics=['accuracy'])\n",
    "    checkpointer = ModelCheckpoint(filepath='models/transfer_learning/weights.best.nasnet_1.hdf5', \n",
    "                               verbose=0, save_best_only=True)\n",
    "    model.fit(X_train, y_train, validation_data=(X_val, y_val), epochs=epochs, \n",
    "               batch_size=32, callbacks=[checkpointer], verbose=0)\n",
    "    \n",
    "    # Calculate the validation accuracy\n",
    "    val_predictions = (model.predict(X_val) > 0.5) * 1\n",
    "    val_accuracy = accuracy_score(val_predictions, y_val)\n",
    "    accuracy.append(val_accuracy)\n",
    "    print('Model {}, accuracy: {}'.format(i+1, np.round(val_accuracy, 4)))\n",
    "    \n",
    "print('The model mean validation accuracy was: {}'.format(np.round(np.mean(accuracy),4)))  "
   ]
  },
  {
   "cell_type": "code",
   "execution_count": null,
   "metadata": {},
   "outputs": [],
   "source": []
  },
  {
   "cell_type": "code",
   "execution_count": null,
   "metadata": {},
   "outputs": [],
   "source": []
  },
  {
   "cell_type": "code",
   "execution_count": 31,
   "metadata": {},
   "outputs": [
    {
     "name": "stdout",
     "output_type": "stream",
     "text": [
      "_________________________________________________________________\n",
      "Layer (type)                 Output Shape              Param #   \n",
      "=================================================================\n",
      "dense_55 (Dense)             (None, 1)                 4033      \n",
      "=================================================================\n",
      "Total params: 4,033\n",
      "Trainable params: 4,033\n",
      "Non-trainable params: 0\n",
      "_________________________________________________________________\n"
     ]
    }
   ],
   "source": [
    "from keras.layers import Dropout, Dense\n",
    "from keras.models import Sequential\n",
    "\n",
    "model1 = Sequential()\n",
    "model1.add(Dense(1, activation='relu', input_shape=(4032,)))\n",
    "\n",
    "model1.summary()"
   ]
  },
  {
   "cell_type": "code",
   "execution_count": 32,
   "metadata": {},
   "outputs": [
    {
     "name": "stdout",
     "output_type": "stream",
     "text": [
      "Training accuracy: 1.0\n",
      "Validation accuracy: 0.9412\n"
     ]
    }
   ],
   "source": [
    "from numpy.random import seed\n",
    "seed(42)\n",
    "from tensorflow import set_random_seed\n",
    "set_random_seed(42)\n",
    "\n",
    "\n",
    "from keras.callbacks import ModelCheckpoint  \n",
    "\n",
    "model1.compile(optimizer='adam', loss='binary_crossentropy', metrics=['accuracy'])\n",
    "epochs = 100\n",
    "checkpointer = ModelCheckpoint(filepath='models/transfer_learning/weights.best.nasnet_1.hdf5', \n",
    "                               verbose=0, save_best_only=True)\n",
    "\n",
    "model1.fit(X_train, y_train, \n",
    "          validation_data=(X_val, y_val),\n",
    "          epochs=epochs, batch_size=20, callbacks=[checkpointer], verbose=0)\n",
    "\n",
    "#model1.load_weights('models/transfer_learning/weights.best.nasnet_1.hdf5')\n",
    "\n",
    "from sklearn.metrics import accuracy_score\n",
    "\n",
    "train_predictions_1 = (model1.predict(X_train) > 0.5) * 1\n",
    "val_predictions_1 = (model1.predict(X_val) > 0.5) * 1\n",
    "train_accuracy_1 = accuracy_score(train_predictions_1, y_train)\n",
    "val_accuracy_1 = accuracy_score(val_predictions_1, y_val)\n",
    "\n",
    "print('Training accuracy: {}'.format(np.round(train_accuracy_1,4)))\n",
    "print('Validation accuracy: {}'.format(np.round(val_accuracy_1,4)))"
   ]
  },
  {
   "cell_type": "markdown",
   "metadata": {},
   "source": [
    "#### Second model"
   ]
  },
  {
   "cell_type": "markdown",
   "metadata": {},
   "source": [
    "The second model is more complex than the first model because we added a 10-neuron fully connected layer before the final layer."
   ]
  },
  {
   "cell_type": "code",
   "execution_count": 69,
   "metadata": {},
   "outputs": [
    {
     "name": "stdout",
     "output_type": "stream",
     "text": [
      "_________________________________________________________________\n",
      "Layer (type)                 Output Shape              Param #   \n",
      "=================================================================\n",
      "dense_38 (Dense)             (None, 10)                40330     \n",
      "_________________________________________________________________\n",
      "dense_39 (Dense)             (None, 1)                 11        \n",
      "=================================================================\n",
      "Total params: 40,341\n",
      "Trainable params: 40,341\n",
      "Non-trainable params: 0\n",
      "_________________________________________________________________\n"
     ]
    }
   ],
   "source": [
    "model2 = Sequential()\n",
    "model2.add(Dense(10, activation='relu', input_shape=(4032,)))\n",
    "model2.add(Dense(1, activation='relu'))\n",
    "\n",
    "model2.summary()"
   ]
  },
  {
   "cell_type": "code",
   "execution_count": 70,
   "metadata": {},
   "outputs": [
    {
     "name": "stdout",
     "output_type": "stream",
     "text": [
      "Training accuracy: 1.0\n",
      "Validation accuracy: 0.902\n"
     ]
    }
   ],
   "source": [
    "seed(42)\n",
    "set_random_seed(42)\n",
    "\n",
    "\n",
    "model2.compile(optimizer='adam', loss='binary_crossentropy', metrics=['accuracy'])\n",
    "epochs = 300\n",
    "checkpointer = ModelCheckpoint(filepath='models/transfer_learning/weights.best.nasnet_2.hdf5', \n",
    "                               verbose=0, save_best_only=True)\n",
    "\n",
    "model2.fit(X_train, y_train, \n",
    "          validation_data=(X_val, y_val),\n",
    "          epochs=epochs, batch_size=20, callbacks=[checkpointer], verbose=0)\n",
    "\n",
    "train_predictions_2 = (model2.predict(X_train) > 0.5) * 1\n",
    "val_predictions_2 = (model2.predict(X_val) > 0.5) * 1\n",
    "train_accuracy_2 = accuracy_score(train_predictions_2, y_train)\n",
    "val_accuracy_2 = accuracy_score(val_predictions_2, y_val)\n",
    "\n",
    "print('Training accuracy: {}'.format(np.round(train_accuracy_2,3)))\n",
    "print('Validation accuracy: {}'.format(np.round(val_accuracy_2,3)))"
   ]
  },
  {
   "cell_type": "markdown",
   "metadata": {},
   "source": [
    "#### Third model"
   ]
  },
  {
   "cell_type": "code",
   "execution_count": 80,
   "metadata": {},
   "outputs": [
    {
     "name": "stdout",
     "output_type": "stream",
     "text": [
      "_________________________________________________________________\n",
      "Layer (type)                 Output Shape              Param #   \n",
      "=================================================================\n",
      "dense_47 (Dense)             (None, 10)                40330     \n",
      "_________________________________________________________________\n",
      "dropout_7 (Dropout)          (None, 10)                0         \n",
      "_________________________________________________________________\n",
      "dense_48 (Dense)             (None, 1)                 11        \n",
      "=================================================================\n",
      "Total params: 40,341\n",
      "Trainable params: 40,341\n",
      "Non-trainable params: 0\n",
      "_________________________________________________________________\n"
     ]
    }
   ],
   "source": [
    "model3 = Sequential()\n",
    "model3.add(Dense(10, activation='relu', input_shape=(4032,)))\n",
    "model3.add(Dropout(rate=0.2))\n",
    "model3.add(Dense(1, activation='relu'))\n",
    "\n",
    "model3.summary()"
   ]
  },
  {
   "cell_type": "code",
   "execution_count": 81,
   "metadata": {},
   "outputs": [
    {
     "name": "stdout",
     "output_type": "stream",
     "text": [
      "Training accuracy: 1.0\n",
      "Validation accuracy: 0.922\n"
     ]
    }
   ],
   "source": [
    "seed(42)\n",
    "set_random_seed(42)\n",
    "\n",
    "model3.compile(optimizer='adam', loss='binary_crossentropy', metrics=['accuracy'])\n",
    "epochs = 300\n",
    "checkpointer = ModelCheckpoint(filepath='models/transfer_learning/weights.best.nasnet_3.hdf5', \n",
    "                               verbose=0, save_best_only=True)\n",
    "\n",
    "model3.fit(X_train, y_train, \n",
    "          validation_data=(X_val, y_val),\n",
    "          epochs=epochs, batch_size=20, callbacks=[checkpointer], verbose=0)\n",
    "\n",
    "train_predictions_3 = (model3.predict(X_train) > 0.5) * 1\n",
    "val_predictions_3 = (model3.predict(X_val) > 0.5) * 1\n",
    "train_accuracy_3 = accuracy_score(train_predictions_3, y_train)\n",
    "val_accuracy_3 = accuracy_score(val_predictions_3, y_val)\n",
    "\n",
    "print('Training accuracy: {}'.format(np.round(train_accuracy_3,3)))\n",
    "print('Validation accuracy: {}'.format(np.round(val_accuracy_3,3)))"
   ]
  },
  {
   "cell_type": "markdown",
   "metadata": {},
   "source": []
  },
  {
   "cell_type": "code",
   "execution_count": null,
   "metadata": {},
   "outputs": [],
   "source": []
  },
  {
   "cell_type": "code",
   "execution_count": 82,
   "metadata": {},
   "outputs": [
    {
     "data": {
      "text/plain": [
       "(400, 1000)"
      ]
     },
     "execution_count": 82,
     "metadata": {},
     "output_type": "execute_result"
    }
   ],
   "source": [
    "import numpy as np\n",
    "\n",
    "X = np.load('data/bottleneck_features/xception_bottleneck.npy')\n",
    "\n",
    "X.shape"
   ]
  },
  {
   "cell_type": "code",
   "execution_count": 83,
   "metadata": {},
   "outputs": [],
   "source": [
    "from sklearn.model_selection import train_test_split\n",
    "\n",
    "X_train, X_test, y_train, y_test = train_test_split(X, y, test_size=0.15, random_state=42, shuffle=True, stratify=y)\n",
    "X_train, X_val, y_train, y_val = train_test_split(X_train, y_train, test_size=0.15, \n",
    "                                                  random_state=42, shuffle=True, stratify=y_train)"
   ]
  },
  {
   "cell_type": "code",
   "execution_count": 90,
   "metadata": {},
   "outputs": [
    {
     "name": "stdout",
     "output_type": "stream",
     "text": [
      "_________________________________________________________________\n",
      "Layer (type)                 Output Shape              Param #   \n",
      "=================================================================\n",
      "dense_51 (Dense)             (None, 100)               100100    \n",
      "_________________________________________________________________\n",
      "dropout_8 (Dropout)          (None, 100)               0         \n",
      "_________________________________________________________________\n",
      "dense_52 (Dense)             (None, 1)                 101       \n",
      "=================================================================\n",
      "Total params: 100,201\n",
      "Trainable params: 100,201\n",
      "Non-trainable params: 0\n",
      "_________________________________________________________________\n"
     ]
    }
   ],
   "source": [
    "model1 = Sequential()\n",
    "model1.add(Dense(100, activation='relu', input_shape=(1000,)))\n",
    "model1.add(Dropout(rate=0.2))\n",
    "model1.add(Dense(1, activation='relu', input_shape=(1000,)))\n",
    "\n",
    "model1.summary()"
   ]
  },
  {
   "cell_type": "code",
   "execution_count": 91,
   "metadata": {},
   "outputs": [
    {
     "name": "stdout",
     "output_type": "stream",
     "text": [
      "Training accuracy: 1.0\n",
      "Validation accuracy: 0.8824\n"
     ]
    }
   ],
   "source": [
    "seed(42)\n",
    "set_random_seed(42)\n",
    "\n",
    "\n",
    "from keras.callbacks import ModelCheckpoint  \n",
    "\n",
    "model1.compile(optimizer='adam', loss='binary_crossentropy', metrics=['accuracy'])\n",
    "epochs = 300\n",
    "checkpointer = ModelCheckpoint(filepath='models/transfer_learning/weights.best.xception_1.hdf5', \n",
    "                               verbose=0, save_best_only=True)\n",
    "\n",
    "model1.fit(X_train, y_train, \n",
    "          validation_data=(X_val, y_val),\n",
    "          epochs=epochs, batch_size=20, callbacks=[checkpointer], verbose=0)\n",
    "\n",
    "\n",
    "train_predictions_1 = (model1.predict(X_train) > 0.5) * 1\n",
    "val_predictions_1 = (model1.predict(X_val) > 0.5) * 1\n",
    "train_accuracy_1 = accuracy_score(train_predictions_1, y_train)\n",
    "val_accuracy_1 = accuracy_score(val_predictions_1, y_val)\n",
    "\n",
    "print('Training accuracy: {}'.format(np.round(train_accuracy_1,4)))\n",
    "print('Validation accuracy: {}'.format(np.round(val_accuracy_1,4)))"
   ]
  },
  {
   "cell_type": "code",
   "execution_count": null,
   "metadata": {},
   "outputs": [],
   "source": []
  }
 ],
 "metadata": {
  "kernelspec": {
   "display_name": "Python 3",
   "language": "python",
   "name": "python3"
  },
  "language_info": {
   "codemirror_mode": {
    "name": "ipython",
    "version": 3
   },
   "file_extension": ".py",
   "mimetype": "text/x-python",
   "name": "python",
   "nbconvert_exporter": "python",
   "pygments_lexer": "ipython3",
   "version": "3.6.8"
  }
 },
 "nbformat": 4,
 "nbformat_minor": 2
}
