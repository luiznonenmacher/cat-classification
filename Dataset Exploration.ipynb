{
 "cells": [
  {
   "cell_type": "markdown",
   "metadata": {},
   "source": [
    "# Dataset Exploration"
   ]
  },
  {
   "cell_type": "code",
   "execution_count": 2,
   "metadata": {},
   "outputs": [],
   "source": [
    "import cv2\n",
    "import matplotlib.pyplot as plt\n",
    "import os\n",
    "import numpy as np"
   ]
  },
  {
   "cell_type": "code",
   "execution_count": 4,
   "metadata": {},
   "outputs": [],
   "source": [
    "a = {'a':10}\n"
   ]
  },
  {
   "cell_type": "code",
   "execution_count": 12,
   "metadata": {},
   "outputs": [],
   "source": [
    "folders = ['data/original_data/gepetto/', 'data/original_data/kuki/']\n",
    "image_sizes = {}\n",
    "\n",
    "for folder in folders:\n",
    "    for filename in os.listdir(folder):\n",
    "        path = folder + filename\n",
    "        img = cv2.imread(path)\n",
    "        shape = img.shape[0:2]\n",
    "        \n",
    "        if shape in image_sizes:\n",
    "            image_sizes[shape] += 1\n",
    "        else:\n",
    "            image_sizes[shape] = 1"
   ]
  },
  {
   "cell_type": "code",
   "execution_count": 13,
   "metadata": {},
   "outputs": [
    {
     "data": {
      "text/plain": [
       "{(3724, 2096): 51,\n",
       " (3840, 2160): 2,\n",
       " (1280, 720): 11,\n",
       " (2096, 3724): 6,\n",
       " (1125, 903): 1,\n",
       " (540, 327): 1,\n",
       " (540, 301): 1,\n",
       " (412, 303): 1,\n",
       " (540, 337): 1,\n",
       " (540, 377): 1,\n",
       " (540, 360): 2,\n",
       " (540, 380): 1,\n",
       " (4032, 3024): 145,\n",
       " (1936, 2592): 2,\n",
       " (2320, 3088): 3,\n",
       " (3088, 2320): 2,\n",
       " (3024, 4032): 6,\n",
       " (1280, 960): 9,\n",
       " (2048, 1536): 81,\n",
       " (2448, 3264): 7,\n",
       " (3662, 2744): 2,\n",
       " (960, 1280): 6,\n",
       " (1532, 2038): 5,\n",
       " (3264, 2448): 10,\n",
       " (739, 750): 1,\n",
       " (2038, 1532): 5,\n",
       " (1364, 768): 1,\n",
       " (1536, 2048): 8,\n",
       " (960, 960): 8,\n",
       " (3483, 2609): 1,\n",
       " (2909, 3880): 1,\n",
       " (1920, 1080): 1,\n",
       " (3047, 1600): 1,\n",
       " (685, 844): 1,\n",
       " (540, 422): 1,\n",
       " (540, 428): 1,\n",
       " (540, 415): 1,\n",
       " (1125, 810): 1,\n",
       " (540, 352): 1,\n",
       " (540, 349): 1,\n",
       " (540, 405): 1,\n",
       " (2592, 1936): 3,\n",
       " (1334, 750): 1,\n",
       " (2448, 2448): 2,\n",
       " (3727, 2753): 1,\n",
       " (1080, 1920): 1}"
      ]
     },
     "execution_count": 13,
     "metadata": {},
     "output_type": "execute_result"
    }
   ],
   "source": [
    "image_sizes"
   ]
  },
  {
   "cell_type": "code",
   "execution_count": null,
   "metadata": {},
   "outputs": [],
   "source": []
  }
 ],
 "metadata": {
  "kernelspec": {
   "display_name": "Python 3",
   "language": "python",
   "name": "python3"
  },
  "language_info": {
   "codemirror_mode": {
    "name": "ipython",
    "version": 3
   },
   "file_extension": ".py",
   "mimetype": "text/x-python",
   "name": "python",
   "nbconvert_exporter": "python",
   "pygments_lexer": "ipython3",
   "version": "3.6.8"
  }
 },
 "nbformat": 4,
 "nbformat_minor": 2
}
